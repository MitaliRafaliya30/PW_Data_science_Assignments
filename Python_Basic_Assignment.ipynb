{
  "nbformat": 4,
  "nbformat_minor": 0,
  "metadata": {
    "colab": {
      "provenance": []
    },
    "kernelspec": {
      "name": "python3",
      "display_name": "Python 3"
    },
    "language_info": {
      "name": "python"
    }
  },
  "cells": [
    {
      "cell_type": "markdown",
      "source": [
        "# ***Python Basic Assignment***"
      ],
      "metadata": {
        "id": "PzZL-HRgaULO"
      }
    },
    {
      "cell_type": "markdown",
      "source": [
        "# **QUS-1. Explain the key features of python that make it a popular choice for programming.**\n"
      ],
      "metadata": {
        "id": "SzcX8WeVam1N"
      }
    },
    {
      "cell_type": "markdown",
      "source": [
        "\n",
        "\n",
        "*   Free and Open Source: Python is freely available at the official website.\n",
        "It is open-source, means that the source code is also available to the public.\n",
        "\n",
        "*   Easy to Learn and Use: Python has a simple and readable syntax.\n",
        "It is also a developer-friendly language.\n",
        "\n",
        "*  Dynamically Typed Language: It means type of variable is decided at run time so we don't need to specify the type of variable.\n",
        "\n",
        "*  Interpreted Language: Python runs code one line at a time, which helps with finding and fixing errors easily.\n",
        "\n",
        "*   Extensive Standard Library: Python has a large standard library that provides a rich set of modules and functions so we do not have to write own code for every single thing.\n",
        "\n",
        "*   Large Community Support: Python has a large and active community, providing extensive resources and support.\n",
        "\n",
        "*   Versatile and Cross-Platform: Python can run on various platforms, including Windows, macOS, and Linux.\n",
        "\n",
        "*  Object-Oriented Language: It is a key features of Python.\n",
        "It supports object-oriented language and concepts of classes, object encapsulation, etc.\n",
        "\n",
        "*   Integrated language: Python integrates well with other languages and technologies.\n",
        "It supports various APIs and can interact with web services, databases.\n",
        "\n",
        "*   Scalability: Python can handle both small scripts and large-scale applications.\n",
        "\n",
        "\n",
        "\n",
        "\n",
        "\n",
        "\n",
        "\n"
      ],
      "metadata": {
        "id": "KSQW9zlaforj"
      }
    },
    {
      "cell_type": "code",
      "source": [],
      "metadata": {
        "id": "V4NwtKA9r0w0"
      },
      "execution_count": null,
      "outputs": []
    },
    {
      "cell_type": "markdown",
      "source": [
        "# **QUS-2. Describe the role of predefined keywords in python and provide examples of how they are used in a program.**\n",
        "\n",
        "*   Predefined keywords in Python are reserved words that have special meanings and specific purpose.\n",
        "*   They are used to define the structure and syntax of the language.\n",
        "*    These keywords cannot be used as identifiers.\n",
        "\n",
        "*   Here's the role of some common predefined keywords and examples of how they are used in a program:\n",
        "\n",
        "1.   Control Flow Keywords:\n",
        "\n",
        "      *   if, elif, else: Used for  conditional statements.\n",
        "\n",
        "      *   for, while: Used for loops.\n",
        "\n",
        "      *   break, continue: Used to control loop execution.\n",
        "\n",
        "\n",
        "\n",
        "\n",
        "\n",
        "\n",
        "\n",
        "\n",
        "\n",
        "\n",
        "\n"
      ],
      "metadata": {
        "id": "YHuoPDh_pNCn"
      }
    },
    {
      "cell_type": "code",
      "source": [
        "# example of control flow keywords :\n",
        "## if, elif, else:\n",
        "num = 10\n",
        "if num > 0:\n",
        "    print(\"Positive number\")\n",
        "elif num < 0:\n",
        "    print(\"Negative number\")\n",
        "else:\n",
        "    print(\"Zero\")"
      ],
      "metadata": {
        "colab": {
          "base_uri": "https://localhost:8080/"
        },
        "id": "mhH-hGUbpQLR",
        "outputId": "14360d3d-298d-4e62-92a9-10c5450cd697"
      },
      "execution_count": 5,
      "outputs": [
        {
          "output_type": "stream",
          "name": "stdout",
          "text": [
            "Positive number\n"
          ]
        }
      ]
    },
    {
      "cell_type": "code",
      "source": [
        "## for loop example :\n",
        "for i in range(5):\n",
        "    print(i)"
      ],
      "metadata": {
        "colab": {
          "base_uri": "https://localhost:8080/"
        },
        "id": "bbX0qgdLs9Ea",
        "outputId": "9b8a8a64-16fc-4a3f-e800-f34dca89b1a5"
      },
      "execution_count": 6,
      "outputs": [
        {
          "output_type": "stream",
          "name": "stdout",
          "text": [
            "0\n",
            "1\n",
            "2\n",
            "3\n",
            "4\n"
          ]
        }
      ]
    },
    {
      "cell_type": "code",
      "source": [
        "## while loop example :\n",
        "num = 0\n",
        "while num < 10:\n",
        "    print(num)\n",
        "    num = num+1"
      ],
      "metadata": {
        "colab": {
          "base_uri": "https://localhost:8080/"
        },
        "id": "yanRmoYZthtv",
        "outputId": "61437c92-e151-4019-b83b-f9b024f08c76"
      },
      "execution_count": 8,
      "outputs": [
        {
          "output_type": "stream",
          "name": "stdout",
          "text": [
            "0\n",
            "1\n",
            "2\n",
            "3\n",
            "4\n",
            "5\n",
            "6\n",
            "7\n",
            "8\n",
            "9\n"
          ]
        }
      ]
    },
    {
      "cell_type": "markdown",
      "source": [
        "*   Function and Class Definitions:\n",
        "\n",
        "      *   def: Used to define a function.\n",
        "\n",
        "      *   class: Used to define a class."
      ],
      "metadata": {
        "id": "oMaqVz_-uAHO"
      }
    },
    {
      "cell_type": "code",
      "source": [
        "# def example:\n",
        "def sum(a,b):\n",
        "  return a+b\n",
        "\n",
        "print(sum(2,4))"
      ],
      "metadata": {
        "colab": {
          "base_uri": "https://localhost:8080/"
        },
        "id": "9RTdzcU9t0YU",
        "outputId": "23132b41-f1d7-4d99-e1bd-dd3a4e6eb877"
      },
      "execution_count": 11,
      "outputs": [
        {
          "output_type": "stream",
          "name": "stdout",
          "text": [
            "6\n"
          ]
        }
      ]
    },
    {
      "cell_type": "code",
      "source": [
        "# class example\n",
        "class greet:\n",
        "  def hello(self):\n",
        "    print(\"Welcome to pw skills..\")\n",
        "\n",
        "obj = greet()\n",
        "obj.hello()"
      ],
      "metadata": {
        "colab": {
          "base_uri": "https://localhost:8080/"
        },
        "id": "Ts4J8k2hujRC",
        "outputId": "a5cb5169-122f-423e-8f8f-131615e1034a"
      },
      "execution_count": 12,
      "outputs": [
        {
          "output_type": "stream",
          "name": "stdout",
          "text": [
            "Welcome to pw skills..\n"
          ]
        }
      ]
    },
    {
      "cell_type": "markdown",
      "source": [
        "\n",
        "\n",
        "*   Logical and Comparison Operators:\n",
        "\n",
        "      *   and, or, not, is, in: Used for logical operations and comparisons.\n",
        "\n",
        "\n"
      ],
      "metadata": {
        "id": "MhANYGBYu-V0"
      }
    },
    {
      "cell_type": "code",
      "source": [
        "# and example\n",
        "x = 5\n",
        "y = 10\n",
        "if x > 0 and y > 0:\n",
        "    print(\"Both x and y are positive\")\n",
        "\n",
        "# or example\n",
        "if x > 0 or y > 0:\n",
        "    print(\"At least one of x or y is positive\")\n",
        "\n",
        "# not\n",
        "if not x > 0:\n",
        "    print(\"x is not positive\")"
      ],
      "metadata": {
        "colab": {
          "base_uri": "https://localhost:8080/"
        },
        "id": "V-QB8-6Vu8WN",
        "outputId": "e9064098-e072-4f5f-cdf1-51780733e111"
      },
      "execution_count": 14,
      "outputs": [
        {
          "output_type": "stream",
          "name": "stdout",
          "text": [
            "Both x and y are positive\n",
            "At least one of x or y is positive\n"
          ]
        }
      ]
    },
    {
      "cell_type": "markdown",
      "source": [
        "*   Importing Modules:\n",
        "\n",
        "      *   import, from, as: Used to import modules and specific functions or classes from modules."
      ],
      "metadata": {
        "id": "Gz0ywYJGwuZk"
      }
    },
    {
      "cell_type": "code",
      "source": [
        "# import example\n",
        "import math\n",
        "print(math.sqrt(16))"
      ],
      "metadata": {
        "colab": {
          "base_uri": "https://localhost:8080/"
        },
        "id": "FFZtBZCYwmfc",
        "outputId": "db136b7d-4f28-4b17-b411-9c3529071dcf"
      },
      "execution_count": 15,
      "outputs": [
        {
          "output_type": "stream",
          "name": "stdout",
          "text": [
            "4.0\n"
          ]
        }
      ]
    },
    {
      "cell_type": "markdown",
      "source": [
        "*   Exception Handling:\n",
        "      *   try, except, finally, raise: Used for error handling."
      ],
      "metadata": {
        "id": "CmuH5kjxxA26"
      }
    },
    {
      "cell_type": "code",
      "source": [
        "# try, except example\n",
        "try:\n",
        "    x = 10 / 0\n",
        "except Exception:\n",
        "    print(\"Cannot divide by zero\")\n"
      ],
      "metadata": {
        "colab": {
          "base_uri": "https://localhost:8080/"
        },
        "id": "BQ6SgNm-w-Oo",
        "outputId": "f8bf5041-b918-4832-c687-4b91912e1d9f"
      },
      "execution_count": 16,
      "outputs": [
        {
          "output_type": "stream",
          "name": "stdout",
          "text": [
            "Cannot divide by zero\n"
          ]
        }
      ]
    },
    {
      "cell_type": "markdown",
      "source": [
        "*   Variable Declaration and Assignment:\n",
        "\n",
        "      *   True, False: Boolean values.\n",
        "      *   None: Represents the absence of a value\n",
        "\n",
        "\n",
        "\n",
        "\n"
      ],
      "metadata": {
        "id": "lYwk1iXHxdEj"
      }
    },
    {
      "cell_type": "code",
      "source": [
        "# True, False example\n",
        "x = True\n",
        "if x:\n",
        "    print(\"x is True\")\n",
        "else:\n",
        "    print(\"x is False\")"
      ],
      "metadata": {
        "colab": {
          "base_uri": "https://localhost:8080/"
        },
        "id": "7L4d4leSxZIM",
        "outputId": "a6f00ed4-27a5-4b42-80cd-2085af077ae8"
      },
      "execution_count": 17,
      "outputs": [
        {
          "output_type": "stream",
          "name": "stdout",
          "text": [
            "x is True\n"
          ]
        }
      ]
    },
    {
      "cell_type": "markdown",
      "source": [
        "# QUS-3. Compare and contrast mutable and immutable objects in python with examples.\n",
        "\n",
        "\n",
        "# 1.   Mutable Objects\n",
        "  \n",
        "      *   Definition:\n",
        "              Objects whose state can be changed after they are created.\n",
        "      *   Examples:\n",
        "              Lists, dictionaries, sets, byte arrays.\n",
        "      *   Memory Address:\n",
        "              The memory address remains the same even after modification.\n",
        "      *   Use Cases:\n",
        "              Suitable for collections of items that need to be updated or changed frequently.\n",
        "      *   Performance:\n",
        "              Generally faster for in-place modifications.\n",
        "            \n",
        "\n",
        "# 2.   Immutable Objects:\n",
        "\n",
        "     *   Definition:\n",
        "             Objects whose state cannot be changed after they are created.\n",
        "     *   Examples:\n",
        "             Strings, tuples, integers, floats, frozensets.\n",
        "     *   Memory Address:\n",
        "             Changes when a modification is made.\n",
        "     *   Use Cases:\n",
        "             Suitable for constants, keys in dictionaries, and values that must remain unchanged.\n",
        "     *   Performance:slower for\n",
        "             modifications.\n",
        "            \n",
        "\n",
        "\n",
        "\n",
        "\n",
        "\n",
        "\n"
      ],
      "metadata": {
        "id": "rGNvdc_ByoJC"
      }
    },
    {
      "cell_type": "code",
      "source": [
        "# example of mutable objects:\n",
        "\n",
        "## Creating a mutable list:\n",
        "lst = [1, 2, 3]\n",
        "print(\"original list\" , lst)\n",
        "\n",
        "## Moifying the list:d\n",
        "lst[0] = 100\n",
        "print(\"modified list\" ,lst)\n"
      ],
      "metadata": {
        "colab": {
          "base_uri": "https://localhost:8080/"
        },
        "id": "ZLHfM5nYx13F",
        "outputId": "938b075b-9889-40e3-a9bd-b7f13b40e705"
      },
      "execution_count": 20,
      "outputs": [
        {
          "output_type": "stream",
          "name": "stdout",
          "text": [
            "original list [1, 2, 3]\n",
            "modified list [100, 2, 3]\n"
          ]
        }
      ]
    },
    {
      "cell_type": "code",
      "source": [
        "# example of immutable objects:\n",
        "\n",
        "## Creating an immutable string:\n",
        "str1 = \"pw_skills\"\n",
        "print(\"original list =\" ,str1 )\n",
        "\n",
        "## Moifying the string:\n",
        "# str1[0] = \"s\"\n",
        "# print(\"modified list =\" ,str1)\n",
        "#throw error because it is immutable"
      ],
      "metadata": {
        "colab": {
          "base_uri": "https://localhost:8080/"
        },
        "id": "4ngFzxxs22kd",
        "outputId": "e81bdfc3-91ca-49e6-aa68-1a0fd680f0a6"
      },
      "execution_count": 24,
      "outputs": [
        {
          "output_type": "stream",
          "name": "stdout",
          "text": [
            "original list = pw_skills\n"
          ]
        }
      ]
    },
    {
      "cell_type": "markdown",
      "source": [
        "# QUS-4. Discuss the different types of operators in python and provide examples of how they are used."
      ],
      "metadata": {
        "id": "VvBAZjhp4B15"
      }
    },
    {
      "cell_type": "code",
      "source": [
        "# # Python Operators Overview\n",
        "\n",
        "# In Python, operators are special symbols that perform operations on variables and values. Here are the different types of operators:\n",
        "\n",
        "## 1. Arithmetic Operators\n",
        "# Used to perform mathematical operations.\n",
        "\n",
        "a = 10\n",
        "b = 3\n",
        "\n",
        "# Addition\n",
        "print(\"Addition:\", a + b)  # Output: 13\n",
        "\n",
        "# Subtraction\n",
        "print(\"Subtraction:\", a - b)  # Output: 7\n",
        "\n",
        "# Multiplication\n",
        "print(\"Multiplication:\", a * b)  # Output: 30\n",
        "\n",
        "# Division\n",
        "print(\"Division:\", a / b)  # Output: 3.333..\n",
        "\n",
        "# Floor Division\n",
        "print(\"Floor Division:\", a // b)  # Output: 3\n",
        "\n",
        "# Modulus\n",
        "print(\"Modulus:\", a % b)  # Output: 1\n",
        "\n",
        "# Exponentiation\n",
        "print(\"Exponentiation:\", a ** b)  # Output: 1000\n",
        "\n",
        "## 2. Comparison Operators\n",
        "# Used to compare two values.\n",
        "\n",
        "x = 5\n",
        "y = 8\n",
        "\n",
        "# Equal\n",
        "print(\"Equal:\", x == y)  # Output: False\n",
        "\n",
        "# Not equal\n",
        "print(\"Not equal:\", x != y)  # Output: True\n",
        "\n",
        "# Greater than\n",
        "print(\"Greater than:\", x > y)  # Output: False\n",
        "\n",
        "# Less than\n",
        "print(\"Less than:\", x < y)  # Output: True\n",
        "\n",
        "# Greater than or equal to\n",
        "print(\"Greater than or equal to:\", x >= y)  # Output: False\n",
        "\n",
        "# Less than or equal to\n",
        "print(\"Less than or equal to:\", x <= y)  # Output: True\n",
        "\n",
        "## 3. Logical Operators\n",
        "# Used to combine conditional statements.\n",
        "\n",
        "p = True\n",
        "q = False\n",
        "\n",
        "# and\n",
        "print(\"Logical AND:\", p and q)  # Output: False\n",
        "\n",
        "# or\n",
        "print(\"Logical OR:\", p or q)  # Output: True\n",
        "\n",
        "# not\n",
        "print(\"Logical NOT:\", not p)  # Output: False\n",
        "\n",
        "## 4. Bitwise Operators\n",
        "# Used to perform bit-level operations.\n",
        "\n",
        "m = 10  # Binary: 1010\n",
        "n = 4   # Binary: 0100\n",
        "\n",
        "# AND\n",
        "print(\"Bitwise AND:\", m & n)  # Output: 0 (Binary: 0000)\n",
        "\n",
        "# OR\n",
        "print(\"Bitwise OR:\", m | n)  # Output: 14 (Binary: 1110)\n",
        "\n",
        "# XOR\n",
        "print(\"Bitwise XOR:\", m ^ n)  # Output: 14 (Binary: 1110)\n",
        "\n",
        "# NOT\n",
        "print(\"Bitwise NOT:\", ~m)  # Output: -11 (Binary: -1011)\n",
        "\n",
        "# Left Shift\n",
        "print(\"Left Shift:\", m << 2)  # Output: 40 (Binary: 101000)\n",
        "\n",
        "# Right Shift\n",
        "print(\"Right Shift:\", m >> 2)  # Output: 2 (Binary: 0010)\n",
        "\n",
        "## 5. Assignment Operators\n",
        "# Used to assign values to variables.\n",
        "\n",
        "z = 5\n",
        "\n",
        "# Assign\n",
        "z = 5\n",
        "print(\"Assign:\", z)  # Output: 5\n",
        "\n",
        "# Add and assign\n",
        "z += 3\n",
        "print(\"Add and assign:\", z)  # Output: 8\n",
        "\n",
        "# Subtract and assign\n",
        "z -= 2\n",
        "print(\"Subtract and assign:\", z)  # Output: 6\n",
        "\n",
        "# Multiply and assign\n",
        "z *= 2\n",
        "print(\"Multiply and assign:\", z)  # Output: 12\n",
        "\n",
        "# Divide and assign\n",
        "z /= 3\n",
        "print(\"Divide and assign:\", z)  # Output: 4.0\n",
        "\n",
        "# Floor divide and assign\n",
        "z //= 2\n",
        "print(\"Floor divide and assign:\", z)  # Output: 2.0\n",
        "\n",
        "# Modulus and assign\n",
        "z %= 2\n",
        "print(\"Modulus and assign:\", z)  # Output: 0.0\n",
        "\n",
        "# Exponent and assign\n",
        "z = 2\n",
        "z **= 3\n",
        "print(\"Exponent and assign:\", z)  # Output: 8\n",
        "\n",
        "## 6. Membership Operators\n",
        "# Used to test if a sequence is presented in an object.\n",
        "\n",
        "fruits = [\"apple\", \"banana\", \"cherry\"]\n",
        "\n",
        "# in\n",
        "print(\"Is 'banana' in fruits?\", \"banana\" in fruits)  # Output: True\n",
        "\n",
        "# not in\n",
        "print(\"Is 'grape' not in fruits?\", \"grape\" not in fruits)  # Output: True\n",
        "\n",
        "## 7. Identity Operators\n",
        "# Used to compare the objects, not if they are equal, but if they are actually the same object with the same memory location.\n",
        "\n",
        "a = [\"apple\", \"banana\"]\n",
        "b = [\"apple\", \"banana\"]\n",
        "c = a\n",
        "\n",
        "# is\n",
        "print(\"a is b:\", a is b)  # Output: False\n",
        "print(\"a is c:\", a is c)  # Output: True\n",
        "\n",
        "# is not\n",
        "print(\"a is not b:\", a is not b)  # Output: True\n",
        "\n",
        "# Note: Even though a and b have the same content, they are different objects in memory."
      ],
      "metadata": {
        "colab": {
          "base_uri": "https://localhost:8080/"
        },
        "id": "NQ2xzonU3KXb",
        "outputId": "eb369a6c-3c95-4a5c-e94c-19199b7fa775"
      },
      "execution_count": 25,
      "outputs": [
        {
          "output_type": "stream",
          "name": "stdout",
          "text": [
            "Addition: 13\n",
            "Subtraction: 7\n",
            "Multiplication: 30\n",
            "Division: 3.3333333333333335\n",
            "Floor Division: 3\n",
            "Modulus: 1\n",
            "Exponentiation: 1000\n",
            "Equal: False\n",
            "Not equal: True\n",
            "Greater than: False\n",
            "Less than: True\n",
            "Greater than or equal to: False\n",
            "Less than or equal to: True\n",
            "Logical AND: False\n",
            "Logical OR: True\n",
            "Logical NOT: False\n",
            "Bitwise AND: 0\n",
            "Bitwise OR: 14\n",
            "Bitwise XOR: 14\n",
            "Bitwise NOT: -11\n",
            "Left Shift: 40\n",
            "Right Shift: 2\n",
            "Assign: 5\n",
            "Add and assign: 8\n",
            "Subtract and assign: 6\n",
            "Multiply and assign: 12\n",
            "Divide and assign: 4.0\n",
            "Floor divide and assign: 2.0\n",
            "Modulus and assign: 0.0\n",
            "Exponent and assign: 8\n",
            "Is 'banana' in fruits? True\n",
            "Is 'grape' not in fruits? True\n",
            "a is b: False\n",
            "a is c: True\n",
            "a is not b: True\n"
          ]
        }
      ]
    },
    {
      "cell_type": "markdown",
      "source": [
        "#QUS-5. Explain the concept of type casting in python with examples.\n",
        "## Ans:\n",
        "## Introduction\n",
        "Type casting is the process of converting a variable from one data type to another. It is useful when we need to perform operations that require a specific data type.\n",
        "\n",
        "## Types of Type Casting\n",
        "1. **Implicit Type Casting**: Automatic conversion by Python.\n",
        "2. **Explicit Type Casting**: Manual conversion by the programmer.\n",
        "\n",
        "## 1. Implicit Type Casting\n",
        "- Python automatically converts one data type to another.\n",
        "- Usually occurs when performing operations that mix different types.\n",
        "\n"
      ],
      "metadata": {
        "id": "1d-7sCxo61W8"
      }
    },
    {
      "cell_type": "code",
      "source": [
        "# Example of Implicit type casting :\n",
        "x = 10\n",
        "y = 4.56\n",
        "z = x + y\n",
        "print(z)\n",
        "print(type(z))"
      ],
      "metadata": {
        "colab": {
          "base_uri": "https://localhost:8080/"
        },
        "id": "JH9coVfD5o2B",
        "outputId": "adba12e3-ea14-4b2a-b731-1bb0569e9fb5"
      },
      "execution_count": 26,
      "outputs": [
        {
          "output_type": "stream",
          "name": "stdout",
          "text": [
            "14.559999999999999\n",
            "<class 'float'>\n"
          ]
        }
      ]
    },
    {
      "cell_type": "markdown",
      "source": [
        "## 2. Explicit Type Casting:\n",
        "   *   Manually converting one data type to another using functions like int(), float(), str(), etc.\n",
        "   *  Required when automatic conversion is not possible.\n"
      ],
      "metadata": {
        "id": "R25JJoc_8pC-"
      }
    },
    {
      "cell_type": "code",
      "source": [
        "# example of Explicit Type Casting:\n",
        "x = 10\n",
        "y = \"5\"\n",
        "z = x + int(y)\n",
        "print(z)\n",
        "print(type(z))"
      ],
      "metadata": {
        "colab": {
          "base_uri": "https://localhost:8080/"
        },
        "id": "lZMpbyHT8lB2",
        "outputId": "93172059-3f20-4fe1-c263-4d655d58be1a"
      },
      "execution_count": 27,
      "outputs": [
        {
          "output_type": "stream",
          "name": "stdout",
          "text": [
            "15\n",
            "<class 'int'>\n"
          ]
        }
      ]
    },
    {
      "cell_type": "markdown",
      "source": [
        "## Common Type Casting Functions:\n",
        "\n",
        "1.   int() : Converts to integer.\n",
        "\n",
        "2.   float() : Converts to float.\n",
        "\n",
        "3.   str() : Converts to string.\n",
        "\n",
        "4.   list() : Converts to list.\n",
        "\n",
        "5.   tuple() : Converts to tuple.\n",
        "\n",
        "6.   set() : Converts to set.\n",
        "\n",
        "\n",
        "\n",
        "\n"
      ],
      "metadata": {
        "id": "KgWzInnr9mq2"
      }
    },
    {
      "cell_type": "markdown",
      "source": [
        "# QUS-6. How do conditional statements work in python? Illustrate with examples.\n",
        "## Introduction\n",
        "Conditional statements allow to execute certain pieces of code based on whether a condition is true or false. They are usefull in controlling the flow of a program.\n",
        "\n",
        "## Types of Conditional Statements\n",
        "1. **if statement**\n",
        "2. **if-else statement**\n",
        "3. **if-elif-else statement**\n",
        "4. **nested if statement**\n",
        "\n",
        "## 1. if Statement\n",
        "- The `if` statement executes a block of code if a specified condition is true.\n"
      ],
      "metadata": {
        "id": "2Fq9DRuM-Zk9"
      }
    },
    {
      "cell_type": "code",
      "source": [
        "# example of if statement:\n",
        "x = 20\n",
        "if x > 0:\n",
        "    print(\"x is positive\")"
      ],
      "metadata": {
        "colab": {
          "base_uri": "https://localhost:8080/"
        },
        "id": "WDg0dYLR-lNl",
        "outputId": "8271c68b-d68f-42a4-bdad-bc59d8e863f8"
      },
      "execution_count": 30,
      "outputs": [
        {
          "output_type": "stream",
          "name": "stdout",
          "text": [
            "x is positive\n"
          ]
        }
      ]
    },
    {
      "cell_type": "markdown",
      "source": [
        "## 2. if-else Statement:\n",
        "\n",
        "\n",
        "*  The if-else statement executes one block of code if the condition is true, and another block of code if the condition is false.\n",
        "\n",
        "\n"
      ],
      "metadata": {
        "id": "CLiA01A6_Z3l"
      }
    },
    {
      "cell_type": "code",
      "source": [
        "# example of if-else statement:\n",
        "x = 20\n",
        "if x > 0:\n",
        "    print(\"x is positive\")\n",
        "else:\n",
        "    print(\"x is not positive\")"
      ],
      "metadata": {
        "colab": {
          "base_uri": "https://localhost:8080/"
        },
        "id": "NNGpmFoV_XlZ",
        "outputId": "4504e7b8-75fe-43ca-cc8d-7a92db309d75"
      },
      "execution_count": 29,
      "outputs": [
        {
          "output_type": "stream",
          "name": "stdout",
          "text": [
            "x is positive\n"
          ]
        }
      ]
    },
    {
      "cell_type": "code",
      "source": [],
      "metadata": {
        "id": "d_n2YoOQADOU"
      },
      "execution_count": null,
      "outputs": []
    },
    {
      "cell_type": "markdown",
      "source": [
        "## 3. if-elif-else Statement:\n",
        "\n",
        "*   The if-elif-else statement checks multiple conditions. If the first condition is false, it checks the next one, and so on. If none of the conditions are true, it executes the else block.\n",
        "\n",
        "\n"
      ],
      "metadata": {
        "id": "EiVlul7b_-zV"
      }
    },
    {
      "cell_type": "code",
      "source": [
        "# Example of if-elif-else Statement:\n",
        "x = 0\n",
        "if x > 0:\n",
        "    print(\"x is positive\")\n",
        "elif x < 0:\n",
        "    print(\"x is negative\")\n",
        "else:\n",
        "    print(\"x is zero\")"
      ],
      "metadata": {
        "colab": {
          "base_uri": "https://localhost:8080/"
        },
        "id": "meyFba4D_9ul",
        "outputId": "355e5319-b8b9-4636-b109-39f088a6db37"
      },
      "execution_count": 31,
      "outputs": [
        {
          "output_type": "stream",
          "name": "stdout",
          "text": [
            "x is zero\n"
          ]
        }
      ]
    },
    {
      "cell_type": "markdown",
      "source": [
        "## 4. Nested if Statement:\n",
        "\n",
        "\n",
        "*   we can use an if statement inside another if statement. This is called nesting and allows to check multiple conditions.\n",
        "\n",
        "\n",
        "\n"
      ],
      "metadata": {
        "id": "AAFTLGs7ARKp"
      }
    },
    {
      "cell_type": "code",
      "source": [
        "# example of Nested if Statement:\n",
        "x = 10\n",
        "y = 5\n",
        "if x > 0:\n",
        "    if y > 0:\n",
        "        print(\"Both x and y are positive\")"
      ],
      "metadata": {
        "colab": {
          "base_uri": "https://localhost:8080/"
        },
        "id": "HZuN77AX_ypp",
        "outputId": "9bc43053-7a5a-476b-9a71-a5289b8386e8"
      },
      "execution_count": 32,
      "outputs": [
        {
          "output_type": "stream",
          "name": "stdout",
          "text": [
            "Both x and y are positive\n"
          ]
        }
      ]
    },
    {
      "cell_type": "markdown",
      "source": [
        "# QUS-7. Describe the different types of loops in python and their use cases with examples.\n",
        "\n",
        "\n",
        "## Introduction\n",
        "Loops are used to execute a block of code repeatedly. Python supports two types of loops: `for` loops and `while` loops. Each type has different use cases and structures.\n",
        "\n",
        "## Types of Loops\n",
        "\n",
        "### 1. for Loop\n",
        "- Used for iterating over a sequence (such as a list, tuple, string, or range).\n",
        "- Executes a block of code a fixed number of times, based on the length of the sequence.\n",
        "\n",
        "#### Use Cases:\n",
        "- Iterating through elements in a list or tuple.\n",
        "- Performing operations on each character in a string.\n",
        "- Repeating a block of code a specific number of times."
      ],
      "metadata": {
        "id": "bDXaaBebAoFl"
      }
    },
    {
      "cell_type": "code",
      "source": [
        "## Example:\n",
        "# Iterating over a list\n",
        "fruits = [\"apple\", \"banana\", \"cherry\"]\n",
        "for fruit in fruits:\n",
        "    print(fruit)\n",
        "\n",
        "# Iterating over a string\n",
        "for char in \"hello\":\n",
        "    print(char)\n",
        "\n",
        "# Using range to repeat a block of code\n",
        "for i in range(5):\n",
        "    print(\"Iteration:\", i)"
      ],
      "metadata": {
        "colab": {
          "base_uri": "https://localhost:8080/"
        },
        "id": "Z_ZagTTBAlne",
        "outputId": "e0c87978-2b48-4e11-a83a-08a06bdd9bca"
      },
      "execution_count": 33,
      "outputs": [
        {
          "output_type": "stream",
          "name": "stdout",
          "text": [
            "apple\n",
            "banana\n",
            "cherry\n",
            "h\n",
            "e\n",
            "l\n",
            "l\n",
            "o\n",
            "Iteration: 0\n",
            "Iteration: 1\n",
            "Iteration: 2\n",
            "Iteration: 3\n",
            "Iteration: 4\n"
          ]
        }
      ]
    },
    {
      "cell_type": "markdown",
      "source": [
        "\n",
        "### 2. while Loop\n",
        "\n",
        "- Repeats a block of code as long as a condition is true.\n",
        "\n",
        "- The condition is checked before each iteration.\n",
        "\n",
        "#### Use Cases:\n",
        "- When the number of iterations is not known beforehand.\n",
        "- Implementing complex conditions for loops.\n",
        "- Running loops until a certain condition is met.\n"
      ],
      "metadata": {
        "id": "whsIQ2auBaM9"
      }
    },
    {
      "cell_type": "code",
      "source": [
        "# example of while loop:\n",
        "num = 0\n",
        "while num < 10:\n",
        "    print(\"num:\", num)\n",
        "    num = num+1"
      ],
      "metadata": {
        "colab": {
          "base_uri": "https://localhost:8080/"
        },
        "id": "Xo0sEHt6BTxh",
        "outputId": "e09f2694-8d47-4c6a-cfea-f92ff48725ae"
      },
      "execution_count": 35,
      "outputs": [
        {
          "output_type": "stream",
          "name": "stdout",
          "text": [
            "num: 0\n",
            "num: 1\n",
            "num: 2\n",
            "num: 3\n",
            "num: 4\n",
            "num: 5\n",
            "num: 6\n",
            "num: 7\n",
            "num: 8\n",
            "num: 9\n"
          ]
        }
      ]
    }
  ]
}