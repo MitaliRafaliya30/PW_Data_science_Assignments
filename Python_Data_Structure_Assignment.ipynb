{
  "nbformat": 4,
  "nbformat_minor": 0,
  "metadata": {
    "colab": {
      "provenance": []
    },
    "kernelspec": {
      "name": "python3",
      "display_name": "Python 3"
    },
    "language_info": {
      "name": "python"
    }
  },
  "cells": [
    {
      "cell_type": "markdown",
      "source": [
        "# Assignment : Python - Data Structure\n",
        "\n"
      ],
      "metadata": {
        "id": "xWKyYY7iHIpa"
      }
    },
    {
      "cell_type": "markdown",
      "source": [
        "# QUS-1. Discuss string slicing and provide examples.\n",
        "## Ans:\n",
        "## Introduction\n",
        "String slicing provides a way to access parts of a string by specifying the (start, end, step) values.\n",
        "\n",
        "### 1. Basic Slicing\n",
        "- Syntax: `string[start:end]`\n",
        "- Extracts a substring from the `start` index to `end-1` index.\n",
        "- If `start` is omitted, it defaults to the beginning of the string.\n",
        "- If `end` is omitted, it defaults to the end of the string.\n",
        "\n"
      ],
      "metadata": {
        "id": "XzftcTJFHP_S"
      }
    },
    {
      "cell_type": "code",
      "execution_count": null,
      "metadata": {
        "colab": {
          "base_uri": "https://localhost:8080/"
        },
        "id": "C1JExNTSEtU6",
        "outputId": "1c36a3a4-526e-4f62-f7de-8272faa37540"
      },
      "outputs": [
        {
          "output_type": "stream",
          "name": "stdout",
          "text": [
            "Hello\n"
          ]
        }
      ],
      "source": [
        "# Example of basic slicing:\n",
        "str1 = \"Hello world\"\n",
        "print(str1[0:5])"
      ]
    },
    {
      "cell_type": "markdown",
      "source": [
        "### 2. Negative Indices:\n",
        "- Negative indices count from the end of the string.\n",
        "- '-1' refers to the last character, -2 to the second last, and so on."
      ],
      "metadata": {
        "id": "0G-qwUMkIuFW"
      }
    },
    {
      "cell_type": "code",
      "source": [
        "# example of Negative Indices\n",
        "string = \"Hello, World!\"\n",
        "print(string[-6:-1])\n",
        "print(string[-6:])"
      ],
      "metadata": {
        "colab": {
          "base_uri": "https://localhost:8080/"
        },
        "id": "g9YEEtJhJCEB",
        "outputId": "51210fcf-f434-4617-98d2-f7c81ca8be0d"
      },
      "execution_count": null,
      "outputs": [
        {
          "output_type": "stream",
          "name": "stdout",
          "text": [
            "World\n",
            "World!\n"
          ]
        }
      ]
    },
    {
      "cell_type": "markdown",
      "source": [
        "### 3. Step Value\n",
        "- Syntax: string[start:end:step]\n",
        "- step specifies the increment between each index for slicing.\n",
        "- A negative step can be used to reverse the string.\n"
      ],
      "metadata": {
        "id": "wysq4sxWJKe1"
      }
    },
    {
      "cell_type": "code",
      "source": [
        "#Example of Step Value:\n",
        "string = \"Hello, World!\"\n",
        "print(string[0:12:2])"
      ],
      "metadata": {
        "colab": {
          "base_uri": "https://localhost:8080/"
        },
        "id": "mWwp-C8HIhUC",
        "outputId": "9c69ba85-45b1-41ce-946e-863fa22d60eb"
      },
      "execution_count": null,
      "outputs": [
        {
          "output_type": "stream",
          "name": "stdout",
          "text": [
            "Hlo ol\n"
          ]
        }
      ]
    },
    {
      "cell_type": "markdown",
      "source": [
        "# QUS-2. Explain the key features of lists in python.\n",
        "# Key Features of Lists in Python\n",
        "\n",
        "## Introduction\n",
        "Lists are one of the most versatile data types in Python. They are used to store multiple items in a single variable and offer a wide range of functionalities.\n",
        "\n",
        "## Key Features\n",
        "\n",
        "### 1. Ordered\n",
        "- Lists maintain the order of items. The first item has an index of 0, the second item has an index of 1, and so on.\n",
        "\n",
        "### 2. Mutable\n",
        "- Lists are mutable, meaning the items within a list can be changed or modified.\n",
        "\n",
        "### 3. Dynamic\n",
        "- Lists are dynamic in size, allowing for the addition and removal of items.\n",
        "\n",
        "### 4. Heterogeneous\n",
        "- Lists can contain items of different data types, including integers, strings, and other lists.\n",
        "\n",
        "### 5. List Comprehension\n",
        "- List comprehensions provide a concise way to create lists using a single line of code.\n",
        "\n",
        "### 6. Slicing\n",
        "- Lists support slicing to access sub-parts of the list.\n",
        "\n",
        "### 7. Methods\n",
        "- Lists come with a variety of built-in methods to perform common operations like appending, extending, removing, and sorting items.\n"
      ],
      "metadata": {
        "id": "y2Nt6O9ZItVH"
      }
    },
    {
      "cell_type": "code",
      "source": [
        "## Examples\n",
        "\n",
        "# Example of Ordered List\n",
        "fruits = [\"apple\", \"banana\", \"cherry\"]\n",
        "print(fruits)  # Output: ['apple', 'banana', 'cherry']\n",
        "\n",
        "# Example of Mutable List\n",
        "fruits = [\"apple\", \"banana\", \"cherry\"]\n",
        "fruits[1] = \"orange\"\n",
        "print(fruits)  # Output: ['apple', 'orange', 'cherry']\n",
        "\n",
        "# Example of Dynamic List\n",
        "fruits = [\"apple\", \"banana\", \"cherry\"]\n",
        "fruits.append(\"orange\")\n",
        "print(fruits)  # Output: ['apple', 'banana', 'cherry', 'orange\n",
        "\n",
        "# Example of Heterogeneous List\n",
        "mixed_list = [1, \"apple\", True, 3.14]\n",
        "print(mixed_list)  # Output: [1, 'apple', True, 3.1\n",
        "\n",
        "# Example of List Comprehension\n",
        "squares = [x**2 for x in range(1, 6)]\n",
        "print(squares)  # Output: [1, 4, 9, 16, 25]\n",
        "\n",
        "# Example of Slicing List\n",
        "fruits = [\"apple\", \"banana\", \"cherry\", \"date\"]\n",
        "print(fruits[1:3])  # Output: ['banana', 'cherry']\n",
        "\n",
        "# Example of List Methods\n",
        "fruits = [\"apple\", \"banana\", \"cherry\"]\n",
        "fruits.append(\"orange\")\n",
        "print(fruits)  # Output: ['apple', 'banana', 'cherry', 'orange']"
      ],
      "metadata": {
        "colab": {
          "base_uri": "https://localhost:8080/"
        },
        "id": "6T2L7ZzcJty1",
        "outputId": "9f72b601-f905-4f49-a557-97081fa556df"
      },
      "execution_count": null,
      "outputs": [
        {
          "output_type": "stream",
          "name": "stdout",
          "text": [
            "['apple', 'banana', 'cherry']\n",
            "['apple', 'orange', 'cherry']\n",
            "['apple', 'banana', 'cherry', 'orange']\n",
            "[1, 'apple', True, 3.14]\n",
            "[1, 4, 9, 16, 25]\n",
            "['banana', 'cherry']\n",
            "['apple', 'banana', 'cherry', 'orange']\n"
          ]
        }
      ]
    },
    {
      "cell_type": "markdown",
      "source": [
        "# QUS-3. Discribe how to access, modify and delete elements in a list with examples.\n",
        "## ANS:\n",
        "## Introduction\n",
        "Lists in Python are versatile and allow various operations such as accessing, modifying, and deleting elements.\n",
        "\n",
        "## 1. Accessing Elements\n",
        "- Elements in a list can be accessed using their index.\n",
        "- Indices start at 0 for the first element.\n",
        "- Negative indices can be used to access elements from the end of the list."
      ],
      "metadata": {
        "id": "xBuk-yEUOZDD"
      }
    },
    {
      "cell_type": "code",
      "source": [
        "# Accessing Elements:\n",
        "name = [\"dhara\", \"deep\", \"aesha\"]\n",
        "print(name[0])  # Output: 'dhara'\n",
        "print(name[-1])  # Output: 'aesha'"
      ],
      "metadata": {
        "colab": {
          "base_uri": "https://localhost:8080/"
        },
        "id": "OcO_D1GPOUdh",
        "outputId": "98c9959f-d2ef-4956-ed28-f53be1241134"
      },
      "execution_count": null,
      "outputs": [
        {
          "output_type": "stream",
          "name": "stdout",
          "text": [
            "dhara\n",
            "aesha\n"
          ]
        }
      ]
    },
    {
      "cell_type": "markdown",
      "source": [
        "## 2. Modifying Elements:\n",
        "- Elements in a list can be modified by accessing them using their index and assigning a new value."
      ],
      "metadata": {
        "id": "9R-DpT3tPjqr"
      }
    },
    {
      "cell_type": "code",
      "source": [
        "# Modifying Elements\n",
        "name = [\"dhara\", \"deep\", \"aesha\"]\n",
        "name[0] = \"piya\"\n",
        "print(name)"
      ],
      "metadata": {
        "id": "hlv5ZaxTPiVY"
      },
      "execution_count": null,
      "outputs": []
    },
    {
      "cell_type": "markdown",
      "source": [
        "# 3.Deleting Elements:\n",
        "- Elements can be deleted using the del statement, remove() method or pop() method.\n",
        "- del statement removes the element at a specific index.\n",
        "- remove() method removes the first occurrence of a specified value.\n",
        "- pop() method removes the element at a specific index and returns it."
      ],
      "metadata": {
        "id": "g_ThMueoQFih"
      }
    },
    {
      "cell_type": "code",
      "source": [
        "# Deleting Elements using del\n",
        "name = [\"dhara\", \"deep\", \"aesha\"]\n",
        "del name[1]\n",
        "print(name)\n",
        "\n",
        "# Deleting Elements using remove()\n",
        "name = [\"dhara\", \"deep\", \"aesha\"]\n",
        "name.remove(\"deep\")\n",
        "print(name)\n",
        "\n",
        "# Deleting Elements using pop()\n",
        "name = [\"dhara\", \"deep\", \"aesha\"]\n",
        "popped_element = name.pop(1)\n",
        "print(name)\n",
        "print(popped_element)"
      ],
      "metadata": {
        "colab": {
          "base_uri": "https://localhost:8080/"
        },
        "id": "FS5_B8RxQAhi",
        "outputId": "d26fcc14-4f4f-4055-f17a-ceac19046dde"
      },
      "execution_count": null,
      "outputs": [
        {
          "output_type": "stream",
          "name": "stdout",
          "text": [
            "['dhara', 'aesha']\n",
            "['dhara', 'aesha']\n",
            "['dhara', 'aesha']\n",
            "deep\n"
          ]
        }
      ]
    },
    {
      "cell_type": "markdown",
      "source": [
        "# QUS-4. Compare and contrast tuples and lists with examples.\n",
        "## Ans:\n",
        "## Introduction\n",
        "Tuples and lists are both data structures in Python that can store multiple items. They have different characteristics and use cases.\n",
        "\n",
        "## Key Differences\n",
        "\n",
        "### 1. Mutability\n",
        "- **Lists**: Mutable, meaning elements can be changed after the list is created.\n",
        "- **Tuples**: Immutable, meaning elements cannot be changed after the tuple is created.\n",
        "\n",
        "### Example:\n",
        "```python\n",
        "# List - Mutable\n",
        "fruits_list = [\"apple\", \"banana\", \"cherry\"]\n",
        "fruits_list[1] = \"blueberry\"\n",
        "print(fruits_list)  # Output: ['apple', 'blueberry', 'cherry']\n",
        "\n",
        "# Tuple - Immutable\n",
        "fruits_tuple = (\"apple\", \"banana\", \"cherry\")\n",
        "try:\n",
        "    fruits_tuple[1] = \"blueberry\"\n",
        "except TypeError as e:\n",
        "    print(e)  # Output: 'tuple' object does not support item assignment\n"
      ],
      "metadata": {
        "id": "6N4GFOPzQu77"
      }
    },
    {
      "cell_type": "markdown",
      "source": [
        "## 2.Syntax\n",
        "- Lists: Created using square brackets [].\n",
        "- Tuples: Created using parentheses ()."
      ],
      "metadata": {
        "id": "ROgnc0ZgRc8y"
      }
    },
    {
      "cell_type": "code",
      "source": [
        "# List\n",
        "fruits_list = [\"apple\", \"banana\", \"cherry\"]\n",
        "\n",
        "# Tuple\n",
        "fruits_tuple = (\"apple\", \"banana\", \"cherry\")"
      ],
      "metadata": {
        "id": "1AMnWWbrQlN4"
      },
      "execution_count": null,
      "outputs": []
    },
    {
      "cell_type": "markdown",
      "source": [
        "## 3. Performance\n",
        "- Lists: Generally slower than tuples due to their mutable nature.\n",
        "- Tuples: Generally faster than lists due to their immutable nature."
      ],
      "metadata": {
        "id": "e-KB19ljRrfR"
      }
    },
    {
      "cell_type": "markdown",
      "source": [
        "# 4. Use Cases\n",
        "- Lists: Suitable for collections of items that are likely to change (add, remove, modify).\n",
        "- Tuples: Suitable for collections of items that should not change (constants, fixed data).\n"
      ],
      "metadata": {
        "id": "w9M_Twm3R3YY"
      }
    },
    {
      "cell_type": "markdown",
      "source": [
        "# 5. Methods\n",
        "- Lists: Have more built-in methods like append(), remove(), extend(), etc.\n",
        "- Tuples: Have fewer methods, mainly count() and index().\n"
      ],
      "metadata": {
        "id": "VKlIH6_JSErZ"
      }
    },
    {
      "cell_type": "code",
      "source": [
        "# List Methods\n",
        "fruits_list = [\"apple\", \"banana\", \"cherry\"]\n",
        "fruits_list.append(\"date\")\n",
        "print(fruits_list)  # Output: ['apple', 'banana', 'cherry', 'date']\n",
        "\n",
        "# Tuple Methods\n",
        "fruits_tuple = (\"apple\", \"banana\", \"cherry\", \"banana\")\n",
        "print(fruits_tuple.count(\"banana\"))  # Output: 2\n",
        "print(fruits_tuple.index(\"cherry\"))  # Output: 2\n"
      ],
      "metadata": {
        "colab": {
          "base_uri": "https://localhost:8080/"
        },
        "id": "Y9BIypBbRnO7",
        "outputId": "1838b5c0-f916-4676-e252-e07088307b46"
      },
      "execution_count": null,
      "outputs": [
        {
          "output_type": "stream",
          "name": "stdout",
          "text": [
            "['apple', 'banana', 'cherry', 'date']\n",
            "2\n",
            "2\n"
          ]
        }
      ]
    },
    {
      "cell_type": "markdown",
      "source": [
        "# QUS-5. Describe the key features of sets and provide examples of their use.#\n",
        "## Ans:\n",
        "## Introduction\n",
        "Sets are a data structure in Python that are used to store unique elements. They are similar to lists and tuples, but with some distinct characteristics and use cases.\n",
        "\n",
        "## Key Features\n",
        "\n",
        "### 1. Unordered\n",
        "- Sets do not maintain any order of elements. The elements are stored in an arbitrary order.\n"
      ],
      "metadata": {
        "id": "RZaqDzESSfQl"
      }
    },
    {
      "cell_type": "code",
      "source": [
        "# Example:\n",
        "# Unordered Set\n",
        "num = {11,22,66,33,44,55,66,22,22,11}\n",
        "print(num)"
      ],
      "metadata": {
        "colab": {
          "base_uri": "https://localhost:8080/"
        },
        "id": "_tJ_2RPwSVqn",
        "outputId": "7ddfb790-e1e1-41f7-ced9-04806a4c9653"
      },
      "execution_count": null,
      "outputs": [
        {
          "output_type": "stream",
          "name": "stdout",
          "text": [
            "{33, 66, 22, 55, 11, 44}\n"
          ]
        }
      ]
    },
    {
      "cell_type": "markdown",
      "source": [
        "## 2.Unique Elements\n",
        "- Sets automatically remove duplicate elements. Each element in a set must be unique.\n"
      ],
      "metadata": {
        "id": "trc3amh_TzTJ"
      }
    },
    {
      "cell_type": "markdown",
      "source": [],
      "metadata": {
        "id": "qCjq0H1dT3zI"
      }
    },
    {
      "cell_type": "code",
      "source": [
        "# Example:\n",
        "# Unique Elements\n",
        "num = {11,22,66,33,44,55,66,22,22,11}\n",
        "print(num)"
      ],
      "metadata": {
        "colab": {
          "base_uri": "https://localhost:8080/"
        },
        "id": "Kctony2sTozH",
        "outputId": "62c9de5b-754e-4015-b45d-cb2e21113e5d"
      },
      "execution_count": null,
      "outputs": [
        {
          "output_type": "stream",
          "name": "stdout",
          "text": [
            "{33, 66, 22, 55, 11, 44}\n"
          ]
        }
      ]
    },
    {
      "cell_type": "markdown",
      "source": [
        "## 3. Mutable\n",
        "- Sets are mutable, meaning you can add or remove elements after the set is created.\n",
        "\n"
      ],
      "metadata": {
        "id": "V6wxmrQSUJ-E"
      }
    },
    {
      "cell_type": "code",
      "source": [
        "# Example:\n",
        "# Mutable Set\n",
        "num = {11,22,66,33,44,55,66,22,22,11}\n",
        "print(num)\n",
        "num.add(1000)\n",
        "print(num)\n",
        "\n",
        "num.remove(11)\n",
        "print(num)"
      ],
      "metadata": {
        "colab": {
          "base_uri": "https://localhost:8080/"
        },
        "id": "F1pzgPRaUHwW",
        "outputId": "86593ec5-dd09-47d9-a8e8-e360d8f34b60"
      },
      "execution_count": null,
      "outputs": [
        {
          "output_type": "stream",
          "name": "stdout",
          "text": [
            "{33, 66, 22, 55, 11, 44}\n",
            "{33, 66, 22, 55, 1000, 11, 44}\n",
            "{33, 66, 22, 55, 1000, 44}\n"
          ]
        }
      ]
    },
    {
      "cell_type": "markdown",
      "source": [
        "## 4. No Indexing\n",
        "- Sets do not support indexing, slicing, or other sequence-like behavior. we  cannot access elements by index.\n",
        "\n"
      ],
      "metadata": {
        "id": "py_yOVblUecj"
      }
    },
    {
      "cell_type": "code",
      "source": [
        "# Example:\n",
        "# Mutable Set\n",
        "num = {11,22,66,33,44,55,66,22,22,11}\n",
        "print(num)\n",
        "try:\n",
        "  print(num[0])\n",
        "except TypeError as e:\n",
        "    print(e)"
      ],
      "metadata": {
        "colab": {
          "base_uri": "https://localhost:8080/"
        },
        "id": "u5w7bND3Ul7P",
        "outputId": "ee733ac8-e561-477b-c694-89411add78c2"
      },
      "execution_count": null,
      "outputs": [
        {
          "output_type": "stream",
          "name": "stdout",
          "text": [
            "{33, 66, 22, 55, 11, 44}\n",
            "'set' object is not subscriptable\n"
          ]
        }
      ]
    },
    {
      "cell_type": "markdown",
      "source": [
        "## 5. Set Operations\n",
        "- Sets support mathematical operations like union, intersection, difference, and symmetric difference.\n"
      ],
      "metadata": {
        "id": "-vyRYyM7U-Km"
      }
    },
    {
      "cell_type": "code",
      "source": [
        "set_a = {11, 22, 33}\n",
        "set_b = {33, 44, 55}\n",
        "\n",
        "# Using union() method\n",
        "union_set = set_a.union(set_b)\n",
        "print(union_set)\n",
        "\n",
        "# Using intersection() method\n",
        "intersection_set = set_a.intersection(set_b)\n",
        "print(intersection_set)\n",
        "\n",
        "# Using difference() method\n",
        "difference_set = set_a.difference(set_b)\n",
        "print(difference_set)\n",
        "\n",
        "# Using symmetric_difference() method\n",
        "symmetric_difference_set = set_a.symmetric_difference(set_b)\n",
        "print(symmetric_difference_set)"
      ],
      "metadata": {
        "colab": {
          "base_uri": "https://localhost:8080/"
        },
        "id": "lNtrtlUxUv1k",
        "outputId": "4f7528fe-4c72-4506-9277-6f03f3ced1b6"
      },
      "execution_count": null,
      "outputs": [
        {
          "output_type": "stream",
          "name": "stdout",
          "text": [
            "{33, 22, 55, 11, 44}\n",
            "{33}\n",
            "{11, 22}\n",
            "{11, 44, 22, 55}\n"
          ]
        }
      ]
    },
    {
      "cell_type": "markdown",
      "source": [
        "## 6. Methods\n",
        "- Sets have several built-in methods like add(), remove(), pop(), clear(), update(), and more.\n"
      ],
      "metadata": {
        "id": "hHTo2cV1VmMG"
      }
    },
    {
      "cell_type": "code",
      "source": [
        "# Using add() method\n",
        "num = {11, 22, 66, 33, 44, 55}\n",
        "num.add(77)\n",
        "print(\"add\" , num)\n",
        "\n",
        "# Using remove() method\n",
        "num = {11, 22, 66, 33, 44, 55}\n",
        "num.remove(22)\n",
        "print(\"remove\" ,num)\n",
        "\n",
        "# Using discard() method\n",
        "num = {11, 22, 66, 33, 44, 55}\n",
        "num.discard(22)\n",
        "print(\"discard\" ,num)\n",
        "\n",
        "# Using pop() method\n",
        "num = {11, 22, 66, 33, 44, 55}\n",
        "popped_element = num.pop()\n",
        "print(popped_element)\n",
        "print(\"pop\" ,num)\n",
        "\n",
        "# Using clear() method\n",
        "num = {11, 22, 66, 33, 44, 55}\n",
        "num.clear()\n",
        "print(\"clear\" ,num)\n",
        "\n",
        "# Using copy() method\n",
        "num = {11, 22, 66, 33, 44, 55}\n",
        "num_copy = num.copy()\n",
        "print(\"copy\",num_copy)\n",
        "\n"
      ],
      "metadata": {
        "colab": {
          "base_uri": "https://localhost:8080/"
        },
        "id": "5SXpMe6mVhC2",
        "outputId": "912e8b49-8b70-4b1d-d30b-40270974cd61"
      },
      "execution_count": null,
      "outputs": [
        {
          "output_type": "stream",
          "name": "stdout",
          "text": [
            "add {33, 66, 22, 55, 11, 44, 77}\n",
            "remove {33, 66, 55, 11, 44}\n",
            "discard {33, 66, 55, 11, 44}\n",
            "33\n",
            "pop {66, 22, 55, 11, 44}\n",
            "clear set()\n",
            "copy {33, 66, 22, 55, 11, 44}\n"
          ]
        }
      ]
    },
    {
      "cell_type": "markdown",
      "source": [
        "# QUS-6. Discuss the use case of tuples and sets in python programming.\n",
        "\n",
        "## Introduction\n",
        "Tuples and sets are two different data structures in Python, each with its unique features and use cases. Understanding when and how to use them is crucial for efficient programming.\n",
        "\n",
        "## Use Cases of Tuples\n",
        "\n",
        "### 1. Immutable Data Storage\n",
        "- Tuples are immutable, meaning their elements cannot be changed after creation. This makes them ideal for storing constant data that should not be modified.\n",
        "\n"
      ],
      "metadata": {
        "id": "n_KVFJZRW8M-"
      }
    },
    {
      "cell_type": "code",
      "source": [
        "# example:\n",
        "# Tuple for storing constant data\n",
        "coordinates = (40.7128, -74.0060)\n",
        "print(coordinates)"
      ],
      "metadata": {
        "colab": {
          "base_uri": "https://localhost:8080/"
        },
        "id": "kj_DcbE6Wqt4",
        "outputId": "31be4cd3-61e5-4620-dae6-e1c836401fca"
      },
      "execution_count": null,
      "outputs": [
        {
          "output_type": "stream",
          "name": "stdout",
          "text": [
            "(40.7128, -74.006)\n"
          ]
        }
      ]
    },
    {
      "cell_type": "markdown",
      "source": [
        "## 2. Heterogeneous Data\n",
        "- Tuples can store a collection of items of different data types. This makes them useful for grouping related but different types of data."
      ],
      "metadata": {
        "id": "wMj_NnRJYBGt"
      }
    },
    {
      "cell_type": "code",
      "source": [
        "# example:\n",
        "# Tuple for storing heterogeneous data\n",
        "person = (\"Alice\", 30, \"Engineer\")\n",
        "print(person)"
      ],
      "metadata": {
        "colab": {
          "base_uri": "https://localhost:8080/"
        },
        "id": "s0tnLzSGX-vP",
        "outputId": "daed0249-2dfc-4a7e-b4e6-8a932112defe"
      },
      "execution_count": null,
      "outputs": [
        {
          "output_type": "stream",
          "name": "stdout",
          "text": [
            "('Alice', 30, 'Engineer')\n"
          ]
        }
      ]
    },
    {
      "cell_type": "markdown",
      "source": [
        "## 3. Return Multiple Values from a Function\n",
        "- Tuples can be used to return multiple values from a function.\n"
      ],
      "metadata": {
        "id": "FgyR84l7YhO2"
      }
    },
    {
      "cell_type": "code",
      "source": [
        "# Function returning multiple values using tuple\n",
        "def get_person():\n",
        "    return (\"Bob\", 25, \"Doctor\")\n",
        "\n",
        "name, age, profession = get_person()\n",
        "print(name, age, profession)"
      ],
      "metadata": {
        "colab": {
          "base_uri": "https://localhost:8080/"
        },
        "id": "_Ob2Zv9IYlXl",
        "outputId": "38144c8c-c4a0-4d07-bc9a-a27854918d4f"
      },
      "execution_count": null,
      "outputs": [
        {
          "output_type": "stream",
          "name": "stdout",
          "text": [
            "Bob 25 Doctor\n"
          ]
        }
      ]
    },
    {
      "cell_type": "markdown",
      "source": [
        "## 4. Dictionary Keys\n",
        "- Tuples can be used as keys in dictionaries because they are immutable."
      ],
      "metadata": {
        "id": "m9shPWhYY10G"
      }
    },
    {
      "cell_type": "code",
      "source": [
        "#Tuple as dictionary key\n",
        "location_data = {(40.71, -74.00): \"New York City\"}\n",
        "print(location_data[(40.71, -74.00)])"
      ],
      "metadata": {
        "colab": {
          "base_uri": "https://localhost:8080/"
        },
        "id": "J0XnmnKTYosC",
        "outputId": "30ea5956-1e7f-4ddf-fd13-a04447d9aae9"
      },
      "execution_count": null,
      "outputs": [
        {
          "output_type": "stream",
          "name": "stdout",
          "text": [
            "New York City\n"
          ]
        }
      ]
    },
    {
      "cell_type": "markdown",
      "source": [
        "## Use Cases of Sets:\n",
        "## 1. Unique Elements\n",
        "- Sets are ideal for storing collections of unique items.\n"
      ],
      "metadata": {
        "id": "JULZstKBZN2Q"
      }
    },
    {
      "cell_type": "code",
      "source": [
        "# Set for storing unique elements\n",
        "unique_numbers = {1, 2, 3, 4, 5}\n",
        "print(unique_numbers)"
      ],
      "metadata": {
        "colab": {
          "base_uri": "https://localhost:8080/"
        },
        "id": "C59XGdJNZjG6",
        "outputId": "8a9d8c32-de3c-4779-ddff-319b1848a5fb"
      },
      "execution_count": null,
      "outputs": [
        {
          "output_type": "stream",
          "name": "stdout",
          "text": [
            "{1, 2, 3, 4, 5}\n"
          ]
        }
      ]
    },
    {
      "cell_type": "markdown",
      "source": [
        "## 2. Membership Testing\n",
        "- Sets are optimized for membership testing, making them faster for checking if an item exists in the collection.\n"
      ],
      "metadata": {
        "id": "HQOIIzlQZsAU"
      }
    },
    {
      "cell_type": "code",
      "source": [
        "# Membership testing\n",
        "numbers = {1, 2, 3, 4, 5}\n",
        "print(3 in numbers)  # Output: True\n",
        "print(6 in numbers)  # Output: False"
      ],
      "metadata": {
        "id": "VSc8E0fXaALD"
      },
      "execution_count": null,
      "outputs": []
    },
    {
      "cell_type": "markdown",
      "source": [
        "## 3.Mathematical Set Operations\n",
        "- Sets support operations like union, intersection, difference, and symmetric difference, making them useful for mathematical computations and data analysis.\n"
      ],
      "metadata": {
        "id": "YnUSQxY4aCem"
      }
    },
    {
      "cell_type": "code",
      "source": [
        "# Set operations\n",
        "set_a = {1, 2, 3}\n",
        "set_b = {3, 4, 5}\n",
        "\n",
        "# Union\n",
        "print(set_a | set_b)  # Output: {1, 2, 3, 4, 5}\n",
        "\n",
        "# Intersection\n",
        "print(set_a & set_b)  # Output: {3}\n",
        "\n",
        "# Difference\n",
        "print(set_a - set_b)  # Output: {1, 2}\n",
        "\n",
        "# Symmetric Difference\n",
        "print(set_a ^ set_b)  # Output: {1, 2, 4, 5}"
      ],
      "metadata": {
        "colab": {
          "base_uri": "https://localhost:8080/"
        },
        "id": "Hh7sSmtNaAkB",
        "outputId": "6a89f6b1-dbde-4815-91ba-2fc1c8177888"
      },
      "execution_count": null,
      "outputs": [
        {
          "output_type": "stream",
          "name": "stdout",
          "text": [
            "{1, 2, 3, 4, 5}\n",
            "{3}\n",
            "{1, 2}\n",
            "{1, 2, 4, 5}\n"
          ]
        }
      ]
    },
    {
      "cell_type": "markdown",
      "source": [
        "## QUS-7. Describe how to add, modify and delete items in adictionary with examples.\n",
        "## Ans:\n",
        "## Introduction\n",
        "Dictionaries in Python are used to store data in key-value pairs. They are mutable, which means you can add, modify, and delete items after the dictionary has been created. Below are examples of how to perform these operations.\n",
        "\n",
        "## 1. Adding Items to a Dictionary\n",
        "\n",
        "### Description\n",
        "To add an item to a dictionary, simply assign a value to a new key.\n"
      ],
      "metadata": {
        "id": "xjtmRKvzaUKw"
      }
    },
    {
      "cell_type": "code",
      "source": [
        "### Example:\n",
        "# Adding items to a dictionary\n",
        "person = {\"name\": \"Manav\", \"age\": 25}\n",
        "person[\"profession\"] = \"Engineer\"\n",
        "print(person)  # Output: {'name': 'Manav', 'age': 25, 'profession': 'Engineer'}"
      ],
      "metadata": {
        "colab": {
          "base_uri": "https://localhost:8080/"
        },
        "id": "7lRugZuiaHUE",
        "outputId": "2d44221b-2803-4453-d384-2d15fcc38bb5"
      },
      "execution_count": null,
      "outputs": [
        {
          "output_type": "stream",
          "name": "stdout",
          "text": [
            "{'name': 'Manav', 'age': 25, 'profession': 'Engineer'}\n"
          ]
        }
      ]
    },
    {
      "cell_type": "markdown",
      "source": [
        "## 2. Modifying Items in a Dictionary\n",
        "- To modify an item in a dictionary, you assign a new value to an existing key.\n",
        "\n",
        "\n"
      ],
      "metadata": {
        "id": "gZTcPO2PbXxO"
      }
    },
    {
      "cell_type": "code",
      "source": [
        "# Modifying items in a dictionary\n",
        "person = {\"name\": \"manav\", \"age\": 25, \"profession\": \"Engineer\"}\n",
        "person[\"age\"] = 26\n",
        "print(person)  # Output: {'name': 'manav', 'age': 26, 'profession': 'Engineer'}"
      ],
      "metadata": {
        "colab": {
          "base_uri": "https://localhost:8080/"
        },
        "id": "Sa6c-TSfbPve",
        "outputId": "485aaa1b-0966-4ddf-fdf3-4a049954d46e"
      },
      "execution_count": null,
      "outputs": [
        {
          "output_type": "stream",
          "name": "stdout",
          "text": [
            "{'name': 'manav', 'age': 26, 'profession': 'Engineer'}\n"
          ]
        }
      ]
    },
    {
      "cell_type": "markdown",
      "source": [
        "## 3. Deleting Items from a Dictionary\n",
        "### Description :\n",
        "- There are several methods to delete items from a dictionary:\n",
        "\n",
        "- del keyword\n",
        "- pop() method\n",
        "- popitem() method\n",
        "- clear() method\n"
      ],
      "metadata": {
        "id": "ayth3yjnbkLb"
      }
    },
    {
      "cell_type": "code",
      "source": [
        "# Deleting items using del keyword\n",
        "person = {\"name\": \"Alice\", \"age\": 25, \"profession\": \"Engineer\"}\n",
        "del person[\"age\"]\n",
        "print(person)  # Output: {'name': 'Alice', 'profession': 'Engineer'}"
      ],
      "metadata": {
        "colab": {
          "base_uri": "https://localhost:8080/"
        },
        "id": "2JAV3y4vbuTM",
        "outputId": "b02488f1-1314-4559-d4f5-9043aa784f4a"
      },
      "execution_count": null,
      "outputs": [
        {
          "output_type": "stream",
          "name": "stdout",
          "text": [
            "{'name': 'Alice', 'profession': 'Engineer'}\n"
          ]
        }
      ]
    },
    {
      "cell_type": "code",
      "source": [
        "# Deleting the last inserted item using popitem() method\n",
        "person = {\"name\": \"Alice\", \"age\": 25, \"profession\": \"Engineer\"}\n",
        "last_item = person.popitem()\n",
        "print(person)  # Output: {'name': 'Alice', 'age': 25}\n",
        "print(last_item)  # Output: ('profession', 'Engineer')"
      ],
      "metadata": {
        "colab": {
          "base_uri": "https://localhost:8080/"
        },
        "id": "x_qD4R1jbhqm",
        "outputId": "77527dc7-dd6b-41ff-8a3a-042fce6cdd98"
      },
      "execution_count": null,
      "outputs": [
        {
          "output_type": "stream",
          "name": "stdout",
          "text": [
            "{'name': 'Alice', 'age': 25}\n",
            "('profession', 'Engineer')\n"
          ]
        }
      ]
    },
    {
      "cell_type": "code",
      "source": [
        "# Clearing all items from the dictionary using clear() method\n",
        "person = {\"name\": \"Alice\", \"age\": 25, \"profession\": \"Engineer\"}\n",
        "person.clear()\n",
        "print(person)  # Output: {}"
      ],
      "metadata": {
        "colab": {
          "base_uri": "https://localhost:8080/"
        },
        "id": "cK2uIE0DbxLj",
        "outputId": "7f30b1d2-b013-4441-ee71-4fd4ac2a7c77"
      },
      "execution_count": null,
      "outputs": [
        {
          "output_type": "stream",
          "name": "stdout",
          "text": [
            "{}\n"
          ]
        }
      ]
    },
    {
      "cell_type": "markdown",
      "source": [
        "# QUS-8. Discuss the importance of dictionary keys being immutable and provide examples.\n",
        "\n",
        "## Introduction\n",
        "In Python, dictionary keys must be immutable. This ensures the integrity and reliability of dictionaries as data structures. Immutable objects cannot be changed after they are created. Common immutable types include strings, numbers, and tuples.\n",
        " Here, we discuss why dictionary keys must be immutable and provide examples.\n",
        "\n",
        "## 1. Hashability\n",
        "\n",
        "### Description\n",
        "- Dictionary keys must be hashable, meaning they must have a fixed hash value that does not change over time.\n",
        "- Immutable objects have consistent hash values, which allows the dictionary to quickly locate and access values.\n"
      ],
      "metadata": {
        "id": "jnDfb7rab2UV"
      }
    },
    {
      "cell_type": "code",
      "source": [
        "### Example:\n",
        "# Using immutable keys\n",
        "person = {\n",
        "    \"name\": \"Alice\",\n",
        "    \"age\": 25,\n",
        "    (40.7128, -74.0060): \"New York City\"\n",
        "}\n",
        "print(person)  # Output: {'name': 'Alice', 'age': 25, (40.7128, -74.0060): 'New York City'}"
      ],
      "metadata": {
        "colab": {
          "base_uri": "https://localhost:8080/"
        },
        "id": "ig5rV2ORbz6e",
        "outputId": "26f7c709-5430-4f3b-f8bc-db388deb3bfd"
      },
      "execution_count": null,
      "outputs": [
        {
          "output_type": "stream",
          "name": "stdout",
          "text": [
            "{'name': 'Alice', 'age': 25, (40.7128, -74.006): 'New York City'}\n"
          ]
        }
      ]
    },
    {
      "cell_type": "markdown",
      "source": [
        "##2. Reliability\n",
        "- Description\n",
        "Immutable keys ensure that the key-value pair remains consistent throughout the lifetime of the dictionary.\n",
        "- Changing a key would disrupt the dictionary's structure, leading to potential errors and data corruption."
      ],
      "metadata": {
        "id": "E9j_MM-ddZIt"
      }
    },
    {
      "cell_type": "code",
      "source": [
        "# Using strings (immutable) as keys\n",
        "inventory = {\n",
        "    \"apples\": 10,\n",
        "    \"bananas\": 5,\n",
        "    \"oranges\": 8\n",
        "}\n",
        "print(inventory)  # Output: {'apples': 10, 'bananas': 5, 'oranges': 8}"
      ],
      "metadata": {
        "colab": {
          "base_uri": "https://localhost:8080/"
        },
        "id": "dGwtNmQLdVZZ",
        "outputId": "6a05c5cf-2d76-4441-9d8b-65cf202ea45e"
      },
      "execution_count": null,
      "outputs": [
        {
          "output_type": "stream",
          "name": "stdout",
          "text": [
            "{'apples': 10, 'bananas': 5, 'oranges': 8}\n"
          ]
        }
      ]
    },
    {
      "cell_type": "markdown",
      "source": [
        "## 3. Performance\n",
        "- Description\n",
        "- Dictionaries use hash tables for efficient lookups. Immutable keys maintain consistent hash values, enabling fast retrieval of values.\n",
        "- Mutable keys would require recalculating the hash value every time the key changes, degrading performance."
      ],
      "metadata": {
        "id": "Kbv8j4wpdoOb"
      }
    },
    {
      "cell_type": "code",
      "source": [
        "#Efficient lookups with immutable keys\n",
        "grades = {\n",
        "    \"Alice\": \"A\",\n",
        "    \"Bob\": \"B\",\n",
        "    \"Charlie\": \"C\"\n",
        "}\n",
        "print(grades[\"Alice\"])  # Output: A"
      ],
      "metadata": {
        "colab": {
          "base_uri": "https://localhost:8080/"
        },
        "id": "IgyFIVUWdfhI",
        "outputId": "fff10838-d0e6-4b97-962c-38d182bdd66f"
      },
      "execution_count": null,
      "outputs": [
        {
          "output_type": "stream",
          "name": "stdout",
          "text": [
            "A\n"
          ]
        }
      ]
    },
    {
      "cell_type": "markdown",
      "source": [
        "## 4. Prevention of Errors\n",
        "- Description\n",
        "- Ensuring keys are immutable helps maintain data integrity and reduces the likelihood of runtime errors."
      ],
      "metadata": {
        "id": "e5HIELh6d4yE"
      }
    },
    {
      "cell_type": "code",
      "source": [
        "# Prevention of errors with immutable keys\n",
        "students = {\n",
        "    (123, \"Alice\"): {\"age\": 20, \"grade\": \"A\"},\n",
        "    (124, \"Bob\"): {\"age\": 22, \"grade\": \"B\"}\n",
        "}\n",
        "print(students[(123, \"Alice\")])  # Output: {'age': 20, 'grade': 'A'}"
      ],
      "metadata": {
        "colab": {
          "base_uri": "https://localhost:8080/"
        },
        "id": "DpFRLs2UeDXr",
        "outputId": "fd73a46e-da53-4de4-dfde-c78bae861688"
      },
      "execution_count": null,
      "outputs": [
        {
          "output_type": "stream",
          "name": "stdout",
          "text": [
            "{'age': 20, 'grade': 'A'}\n"
          ]
        }
      ]
    },
    {
      "cell_type": "code",
      "source": [],
      "metadata": {
        "id": "Kf0xyEFLeDwj"
      },
      "execution_count": null,
      "outputs": []
    }
  ]
}