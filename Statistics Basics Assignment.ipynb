{
 "cells": [
  {
   "cell_type": "markdown",
   "id": "af4fcf37",
   "metadata": {},
   "source": [
    "# 1. Types of Data (Qualitative and Quantitative):\n",
    "\n",
    "Qualitative Data (Categorical Data):\n",
    "\n",
    "Data that is descriptive and labels attributes of a dataset.\n",
    "Examples: Eye color (blue, green, brown), gender (male, female).\n",
    "Quantitative Data (Numerical Data):\n",
    "\n",
    "Data that can be measured numerically.\n",
    "Examples: Age, height, weight.\n",
    "Scales of Measurement:\n",
    "\n",
    "Nominal Scale: Categories without any order (e.g., colors, gender).\n",
    "Ordinal Scale: Categories with a meaningful order but no consistent differences between ranks (e.g., rankings like 1st, 2nd, 3rd).\n",
    "Interval Scale: Numeric values where differences are meaningful, but there is no true zero (e.g., temperature in Celsius).\n",
    "Ratio Scale: Numeric values with a true zero, and differences and ratios are meaningful (e.g., weight, height)."
   ]
  },
  {
   "cell_type": "markdown",
   "id": "fea4f151",
   "metadata": {},
   "source": [
    "# 2. Measures of Central Tendency:\n",
    "\n",
    "Mean: The average of a dataset, used when data is symmetrically distributed.\n",
    "Example: Average of {2, 4, 6} is 4.\n",
    "Use case: Symmetrical, no extreme outliers.\n",
    "Median: The middle value of a dataset when ordered, useful when data has outliers.\n",
    "Example: Median of {1, 3, 9} is 3.\n",
    "Use case: Skewed data with outliers.\n",
    "Mode: The value that occurs most frequently in the dataset, useful for categorical data.\n",
    "Example: Mode of {1, 1, 2, 3} is 1.\n",
    "Use case: Categorical data with repeating values.\n"
   ]
  },
  {
   "cell_type": "markdown",
   "id": "a4bfa901",
   "metadata": {},
   "source": [
    "# 3. Concept of Dispersion (Variance and Standard Deviation):\n",
    "\n",
    "Dispersion: Measures how spread out the data is.\n",
    "\n",
    "Variance: The average of squared differences from the mean.\n",
    "\n",
    "Standard Deviation: The square root of the variance, provides a measure of the average distance of each data point from the mean.\n",
    "\n",
    "Low variance/standard deviation indicates data points are close to the mean; high values indicate data is spread out."
   ]
  },
  {
   "cell_type": "markdown",
   "id": "697c9941",
   "metadata": {},
   "source": [
    "# 4. Box Plot:\n",
    "\n",
    "A visual representation of the distribution of data, showing the median, quartiles, and outliers.\n",
    "Median: The middle of the data.\n",
    "Interquartile Range (IQR): Range between the 1st and 3rd quartiles (Q1 to Q3).\n",
    "Whiskers: Extend to the smallest and largest values within 1.5 * IQR.\n",
    "Outliers: Points outside the whiskers.\n",
    "Box plots give insight into data skewness, spread, and outliers."
   ]
  },
  {
   "cell_type": "markdown",
   "id": "ade1442f",
   "metadata": {},
   "source": [
    "# 5. Role of Random Sampling in Population Inferences:\n",
    "\n",
    "Random sampling allows every member of a population an equal chance to be selected, ensuring unbiased representation. It is essential for making valid inferences about populations based on sample data, as it reduces bias and ensures generalizability."
   ]
  },
  {
   "cell_type": "markdown",
   "id": "9ce3617b",
   "metadata": {},
   "source": [
    "# 6. Concept of Skewness:\n",
    "\n",
    "Skewness measures the asymmetry of a distribution.\n",
    "\n",
    "Positive Skewness: Right-skewed, where the tail is longer on the right (mean > median).\n",
    "Negative Skewness: Left-skewed, where the tail is longer on the left (mean < median).\n",
    "Zero Skewness: Symmetric distribution (mean = median).\n",
    "Skewness affects interpretation as it can indicate the presence of outliers or the need for data transformation."
   ]
  },
  {
   "cell_type": "markdown",
   "id": "c09ef99e",
   "metadata": {},
   "source": [
    "# 7. Interquartile Range (IQR) and Outliers:\n",
    "\n",
    "IQR: The difference between the 75th percentile (Q3) and the 25th percentile (Q1).\n",
    "Formula: IQR = Q3 - Q1.\n",
    "IQR is used to detect outliers by identifying values that fall below Q1 - 1.5 * IQR or above Q3 + 1.5 * IQR."
   ]
  },
  {
   "cell_type": "markdown",
   "id": "85ae09ad",
   "metadata": {},
   "source": [
    "# 8. Binomial Distribution:\n",
    "\n",
    "A binomial distribution applies when there are:\n",
    "A fixed number of trials (n).\n",
    "Two possible outcomes (success or failure).\n",
    "Constant probability of success (p) across trials.\n",
    "Trials are independent.\n",
    "Example: Flipping a coin 10 times and counting heads.\n",
    "\n"
   ]
  },
  {
   "cell_type": "markdown",
   "id": "3209747f",
   "metadata": {},
   "source": [
    "# 9. Properties of Normal Distribution and the Empirical Rule:\n",
    "\n",
    "Normal Distribution: Symmetric, bell-shaped curve where mean = median = mode.\n",
    "\n",
    "Empirical Rule (68-95-99.7 Rule):\n",
    "\n",
    "68% of data falls within 1 standard deviation of the mean.\n",
    "95% within 2 standard deviations.\n",
    "99.7% within 3 standard deviations.\n",
    "It helps in predicting data distribution under normality assumptions.\n",
    "\n"
   ]
  },
  {
   "cell_type": "markdown",
   "id": "ffc4aca4",
   "metadata": {},
   "source": [
    "# 10. Poisson Process and Example:\n",
    "\n",
    "Poisson Process: Models events that occur independently over a fixed interval of time or space.\n",
    "\n",
    "Example: The number of customer arrivals at a bank in an hour.\n",
    "\n",
    "Given average arrivals = 5/hour, probability of 3 customers in an hour = P(X = 3) using the Poisson formula:\n",
    "𝑃\n",
    "(\n",
    "𝑋\n",
    "=\n",
    "𝑘\n",
    ")\n",
    "=\n",
    "𝜆\n",
    "𝑘\n",
    "𝑒\n",
    "−\n",
    "𝜆\n",
    "𝑘\n",
    "!\n",
    "P(X=k)= \n",
    "k!\n",
    "λ \n",
    "k\n",
    " e \n",
    "−λ\n",
    " \n",
    "​\n"
   ]
  },
  {
   "cell_type": "markdown",
   "id": "aac8b7e6",
   "metadata": {},
   "source": [
    "# 11. Random Variables (Discrete vs. Continuous):\n",
    "\n",
    "Random Variable: A variable representing the outcome of a random process.\n",
    "\n",
    "Discrete Random Variables: Take specific, countable values (e.g., number of heads in coin tosses).\n",
    "Continuous Random Variables: Take any value in a range (e.g., height, temperature)."
   ]
  },
  {
   "cell_type": "markdown",
   "id": "c1d1678d",
   "metadata": {},
   "source": [
    "# 12. Covariance and Correlation Example:\n",
    "\n",
    "Covariance: Measures how two variables change together (positive: same direction, negative: opposite).\n",
    "\n",
    "Correlation: Standardized form of covariance, bounded between -1 and 1, indicating strength and direction of linear relationship.\n",
    "\n",
    "Example: Dataset of X = [1, 2, 3], Y = [4, 5, 6].\n",
    "\n",
    "Covariance = 1.0, indicating positive linear relationship.\n",
    "Correlation = 1, perfect positive relationship."
   ]
  },
  {
   "cell_type": "code",
   "execution_count": null,
   "id": "8792cc69",
   "metadata": {},
   "outputs": [],
   "source": []
  }
 ],
 "metadata": {
  "kernelspec": {
   "display_name": "Python 3 (ipykernel)",
   "language": "python",
   "name": "python3"
  },
  "language_info": {
   "codemirror_mode": {
    "name": "ipython",
    "version": 3
   },
   "file_extension": ".py",
   "mimetype": "text/x-python",
   "name": "python",
   "nbconvert_exporter": "python",
   "pygments_lexer": "ipython3",
   "version": "3.10.9"
  }
 },
 "nbformat": 4,
 "nbformat_minor": 5
}
